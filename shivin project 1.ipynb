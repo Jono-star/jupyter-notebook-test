{
 "cells": [
  {
   "cell_type": "code",
   "execution_count": 1,
   "id": "dacc04d4-be49-4671-ae94-23a70c889e58",
   "metadata": {},
   "outputs": [
    {
     "name": "stdout",
     "output_type": "stream",
     "text": [
      "17\n",
      "1\n",
      "72\n",
      "1\n",
      "43046721\n",
      "1.125\n",
      "1\n"
     ]
    }
   ],
   "source": [
    "x=9;\n",
    "y=8;\n",
    "print(x+y)\n",
    "print(x-y)\n",
    "print(x*y)\n",
    "print(x%y)\n",
    "print(x**y)\n",
    "print(x/y)\n",
    "print(x//y)"
   ]
  },
  {
   "cell_type": "code",
   "execution_count": 11,
   "id": "4e057825-770e-4a0f-a5d4-d783907ff02a",
   "metadata": {},
   "outputs": [
    {
     "name": "stdout",
     "output_type": "stream",
     "text": [
      "0 1 2 3 4 5 6 7 8 9 10 \n"
     ]
    }
   ],
   "source": [
    "#range\n",
    "for i in range(11):\n",
    "    print(i,end=\" \")\n",
    "print()"
   ]
  },
  {
   "cell_type": "code",
   "execution_count": 6,
   "id": "301055f6-b4ab-4db3-8238-2ef30c60f0ac",
   "metadata": {},
   "outputs": [
    {
     "name": "stdout",
     "output_type": "stream",
     "text": [
      "-2 0 2 4 6 8 \n"
     ]
    }
   ],
   "source": [
    "for i in range(-2,10,2):\n",
    "    print(i,end=\" \")\n",
    "print()"
   ]
  },
  {
   "cell_type": "code",
   "execution_count": 42,
   "id": "af308b14-804f-4eae-8b7b-22f30e93d5c4",
   "metadata": {},
   "outputs": [
    {
     "name": "stdout",
     "output_type": "stream",
     "text": [
      "<class 'int'>\n",
      "<class 'str'>\n",
      "<class 'float'>\n",
      "<class 'str'>\n",
      "Dhoni\n",
      "DELL\n",
      "joe\n",
      "{'21,34,27,45'}\n",
      "<class 'set'>\n",
      "Germany\n"
     ]
    }
   ],
   "source": [
    "#data types\n",
    "a=3;\n",
    "b='harunesh';\n",
    "c=4.67\n",
    "d=1+2j\n",
    "cricketers=[\"kohli\",\"Rohit\",\"Dhoni\"]\n",
    "computers=(\"apple\",\"HP\",\"DELL\")\n",
    "d='joe'\n",
    "car_company={'BMW':'Germany','hyundai':'korea'}\n",
    "roll_no={\"21,34,27,45\"}\n",
    "print(type(a))\n",
    "print(type(b))\n",
    "print(type(c))\n",
    "print(type(d))\n",
    "print(cricketers[2])\n",
    "print(computers[2])\n",
    "print(d)\n",
    "print(roll_no)\n",
    "print(type(roll_no))\n",
    "print(car_company['BMW'])\n",
    "\n",
    "\n"
   ]
  },
  {
   "cell_type": "code",
   "execution_count": 46,
   "id": "60a0d4a8-471c-47a2-9eb6-78a158d63b27",
   "metadata": {},
   "outputs": [
    {
     "name": "stdin",
     "output_type": "stream",
     "text": [
      "enter your number: 153\n"
     ]
    },
    {
     "name": "stdout",
     "output_type": "stream",
     "text": [
      "armstrong number\n"
     ]
    }
   ],
   "source": [
    "n=int(input('enter your number:'))\n",
    "sum=0\n",
    "x=n\n",
    "while(x>0):\n",
    "    digit=x%10\n",
    "    sum=sum+digit*digit*digit\n",
    "    x=x//10\n",
    "if (n==sum):\n",
    "    print(\"armstrong number\")\n",
    "else:\n",
    "    print(\"wrong\")\n",
    "    \n",
    "    \n",
    "            "
   ]
  },
  {
   "cell_type": "code",
   "execution_count": 1,
   "id": "78e5458f-eeb1-453f-99d4-63a0d7d66715",
   "metadata": {},
   "outputs": [
    {
     "name": "stdout",
     "output_type": "stream",
     "text": [
      "5 is greater than two\n"
     ]
    }
   ],
   "source": [
    "if 5 > 2:\n",
    "    print('5 is greater than two')\n",
    "else:\n",
    "    print('it is not great')"
   ]
  },
  {
   "cell_type": "code",
   "execution_count": 21,
   "id": "784d3a8e-5dd4-487c-8964-23d906f4cbe3",
   "metadata": {},
   "outputs": [
    {
     "name": "stdout",
     "output_type": "stream",
     "text": [
      "<class 'complex'>\n",
      "hello,world !\n",
      "HELLO,WORLD !\n",
      "hello,jorld !\n",
      "hell\n"
     ]
    }
   ],
   "source": [
    "a=1j\n",
    "b=\"hello,world !\"\n",
    "c=\"hello,world !\"\n",
    "d=\"hello,world !\"\n",
    "print(type(a))\n",
    "print(b.lower())\n",
    "print(c.upper())\n",
    "print(d.replace(\"w\",\"j\"))\n",
    "print(d[:4])\n"
   ]
  },
  {
   "cell_type": "code",
   "execution_count": 22,
   "id": "758ec8b3-2e7e-4dfe-a6ca-858506d57de9",
   "metadata": {},
   "outputs": [
    {
     "name": "stdout",
     "output_type": "stream",
     "text": [
      "My name is jono, I am 18\n"
     ]
    }
   ],
   "source": [
    "age = 18\n",
    "name = \"jono\"\n",
    "txt = f\"My name is {name}, I am {age}\"\n",
    "print(txt)"
   ]
  },
  {
   "cell_type": "code",
   "execution_count": 26,
   "id": "7b37a2f6-3a1b-4022-87ce-b6c29784f27f",
   "metadata": {},
   "outputs": [
    {
     "name": "stdout",
     "output_type": "stream",
     "text": [
      "True\n",
      "True\n"
     ]
    }
   ],
   "source": [
    "x=90\n",
    "y=\"hello,World\";\n",
    "print(bool(x))\n",
    "print(bool(y))\n",
    "\n"
   ]
  },
  {
   "cell_type": "code",
   "execution_count": 27,
   "id": "3f028727-a9ec-4c81-b1eb-ab02e833d032",
   "metadata": {},
   "outputs": [
    {
     "name": "stdout",
     "output_type": "stream",
     "text": [
      "('apple', 'banana', 'cherry')\n"
     ]
    }
   ],
   "source": [
    "a = (\"apple\", \"banana\", \"water\")\n",
    "print(a)"
   ]
  },
  {
   "cell_type": "code",
   "execution_count": null,
   "id": "a160e252-7e02-4891-a2ce-3905d8d78429",
   "metadata": {},
   "outputs": [],
   "source": []
  }
 ],
 "metadata": {
  "kernelspec": {
   "display_name": "Python 3 (ipykernel)",
   "language": "python",
   "name": "python3"
  },
  "language_info": {
   "codemirror_mode": {
    "name": "ipython",
    "version": 3
   },
   "file_extension": ".py",
   "mimetype": "text/x-python",
   "name": "python",
   "nbconvert_exporter": "python",
   "pygments_lexer": "ipython3",
   "version": "3.12.4"
  }
 },
 "nbformat": 4,
 "nbformat_minor": 5
}
